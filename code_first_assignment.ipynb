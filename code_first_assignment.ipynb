{
 "cells": [
  {
   "cell_type": "markdown",
   "id": "20f5148f",
   "metadata": {},
   "source": [
    "Regex Substitution"
   ]
  },
  {
   "cell_type": "code",
   "execution_count": null,
   "id": "18007c6d",
   "metadata": {},
   "outputs": [],
   "source": [
    "#SOLUZIONE VISTA NELLA SEDE DISCUSSION\n",
    "from sys import stdin\n",
    "import re\n",
    "n = input()\n",
    "print(re.sub( r\"(?<= )(&&|\\|\\|)(?= )\", lambda x: \"and\" if x.group()==\"&&\" else \"or\", stdin.read()))\n"
   ]
  },
  {
   "cell_type": "markdown",
   "id": "5d00084e",
   "metadata": {},
   "source": [
    "Matrix Script\n"
   ]
  },
  {
   "cell_type": "code",
   "execution_count": null,
   "id": "1618ce4f",
   "metadata": {},
   "outputs": [],
   "source": [
    "#SOLUZIONE VISTA NELLA SEDE DISCUSSION\n",
    "import math\n",
    "import os\n",
    "import random\n",
    "import re\n",
    "import sys\n",
    "import re\n",
    "\n",
    "n, m = map(int, input().split())\n",
    "a, b = [], \"\"\n",
    "for _ in range(n):\n",
    "    a.append(input())\n",
    "\n",
    "for z in zip(*a):\n",
    "    b += \"\".join(z)\n",
    "\n",
    "print(re.sub(r\"(?<=\\w)([^\\w]+)(?=\\w)\", \" \", b))\n",
    "\n",
    "\n",
    "\n",
    "first_multiple_input = input().rstrip().split()\n",
    "\n",
    "n = int(first_multiple_input[0])\n",
    "\n",
    "m = int(first_multiple_input[1])\n",
    "\n",
    "matrix = []\n",
    "\n",
    "for _ in range(n):\n",
    "    matrix_item = input()\n",
    "    matrix.append(matrix_item)"
   ]
  },
  {
   "cell_type": "markdown",
   "id": "b4acffdb",
   "metadata": {},
   "source": [
    "Validating Postal Codes\n",
    "\n"
   ]
  },
  {
   "cell_type": "code",
   "execution_count": null,
   "id": "4b83e426",
   "metadata": {},
   "outputs": [],
   "source": [
    "#SOLUZIONE VISTA NELLA SEDE DISCUSSION\n",
    "regex_integer_in_range = r\"_________\"\t# Do not delete 'r'.\n",
    "regex_alternating_repetitive_digit_pair = r\"_________\"\t# Do not delete 'r'.\n",
    "import re\n",
    "s=input()\n",
    "print (bool(re.match(r'^[1-9][\\d]{5}$',s) and len(re.findall(r'(\\d)(?=\\d\\1)',s))<2 ))\n"
   ]
  },
  {
   "cell_type": "markdown",
   "id": "dc79fbb7",
   "metadata": {},
   "source": [
    "Validating Credit Card Numbers"
   ]
  },
  {
   "cell_type": "code",
   "execution_count": null,
   "id": "b3aa9a8f",
   "metadata": {},
   "outputs": [],
   "source": [
    "#SOLUZIONE VISTA NELLA SEDE DISCUSSION\n",
    "import re\n",
    "TESTER = re.compile(\n",
    "    r\"^\"\n",
    "    r\"(?!.*(\\d)(-?\\1){3})\"\n",
    "    r\"[456]\"\n",
    "    r\"\\d{3}\"\n",
    "    r\"(?:-?\\d{4}){3}\"\n",
    "    r\"$\")\n",
    "for _ in range(int(input().strip())):\n",
    "    print(\"Valid\" if TESTER.search(input().strip()) else \"Invalid\")\n"
   ]
  },
  {
   "cell_type": "markdown",
   "id": "19836c8e",
   "metadata": {},
   "source": [
    "Validating UID"
   ]
  },
  {
   "cell_type": "code",
   "execution_count": null,
   "id": "be5f576c",
   "metadata": {},
   "outputs": [],
   "source": [
    "#SOLUZIONE VISTA NELLA SEDE DISCUSSION\n",
    "import re\n",
    "\n",
    "for _ in range(int(input())):\n",
    "    u = ''.join(sorted(input()))\n",
    "    try:\n",
    "        assert re.search(r'[A-Z]{2}', u)\n",
    "        assert re.search(r'\\d\\d\\d', u)\n",
    "        assert not re.search(r'[^a-zA-Z0-9]', u)\n",
    "        assert not re.search(r'(.)\\1', u)\n",
    "        assert len(u) == 10\n",
    "    except:\n",
    "        print('Invalid')\n",
    "    else:\n",
    "        print('Valid')"
   ]
  },
  {
   "cell_type": "markdown",
   "id": "a423d840",
   "metadata": {},
   "source": [
    "Detect HTML Tags, Attributes and Attribute Values"
   ]
  },
  {
   "cell_type": "code",
   "execution_count": null,
   "id": "5052b0ee",
   "metadata": {},
   "outputs": [],
   "source": [
    "#SOLUZIONE VISTA NELLA SEDE DISCUSSION\n",
    "from html.parser import HTMLParser\n",
    "class MyHTMLParser(HTMLParser):\n",
    "    def handle_starttag(self, tag, attrs):\n",
    "        print(tag)\n",
    "        [print('-> {} > {}'.format(*attr)) for attr in attrs]\n",
    "        \n",
    "html = '\\n'.join([input() for _ in range(int(input()))])\n",
    "parser = MyHTMLParser()\n",
    "parser.feed(html)\n",
    "parser.close()\n"
   ]
  },
  {
   "cell_type": "markdown",
   "id": "e18f7476",
   "metadata": {},
   "source": [
    "HTML Parser - Part 2"
   ]
  },
  {
   "cell_type": "code",
   "execution_count": null,
   "id": "7fef4e17",
   "metadata": {},
   "outputs": [],
   "source": [
    "#SOLUZIONE VISTA NELLA SEDE DISCUSSION\n",
    "from html.parser import HTMLParser\n",
    "\n",
    "class HT(HTMLParser):\n",
    "    def handle_comment(self, data):\n",
    "        if '\\n' in data:\n",
    "            print ('>>> Multi-line Comment')\n",
    "        else:\n",
    "            print('>>> Single-line Comment')\n",
    "        print (data)\n",
    "        \n",
    "    def handle_data(self, data):\n",
    "        if data !='\\n':\n",
    "            print('>>> Data')\n",
    "            print(data)\n",
    "  \n",
    "html = \"\"       \n",
    "for i in range(int(input())):\n",
    "    html += input().rstrip()\n",
    "    html += '\\n'\n",
    "    \n",
    "parser = HT()\n",
    "parser.feed(html)\n",
    "parser.close()\n"
   ]
  },
  {
   "cell_type": "markdown",
   "id": "48bebe86",
   "metadata": {},
   "source": [
    "HTML Parser - Part 1\n",
    "\n"
   ]
  },
  {
   "cell_type": "code",
   "execution_count": null,
   "id": "33996fad",
   "metadata": {},
   "outputs": [],
   "source": [
    "#VISTO LA SOLUZIONE NELLA SEZIONE DISCUSSION\n",
    "\n",
    "from html.parser import HTMLParser\n",
    "class MyHTMLParser(HTMLParser):\n",
    "    def handle_starttag(self, tag, attrs):        \n",
    "        print ('Start :',tag)\n",
    "        for ele in attrs:\n",
    "            print ('->',ele[0],'>',ele[1])\n",
    "            \n",
    "    def handle_endtag(self, tag):\n",
    "        print ('End   :',tag)\n",
    "        \n",
    "    def handle_startendtag(self, tag, attrs):\n",
    "        print ('Empty :',tag)\n",
    "        for ele in attrs:\n",
    "            print ('->',ele[0],'>',ele[1])\n",
    "            \n",
    "MyParser = MyHTMLParser()\n",
    "MyParser.feed(''.join([input().strip() for _ in range(int(input()))]))\n"
   ]
  },
  {
   "cell_type": "markdown",
   "id": "300f6e5a",
   "metadata": {},
   "source": [
    "Hex Color Code"
   ]
  },
  {
   "cell_type": "code",
   "execution_count": null,
   "id": "e8b0e625",
   "metadata": {},
   "outputs": [],
   "source": [
    "#VISTO LA SEZIONE DISCUSSION PER SOLUZIONE\n",
    "import re\n",
    "pattern=r'(#[0-9a-fA-F]{3,6}){1,2}[^\\n ]'\n",
    "for i in range(int(input())):\n",
    "    for x in re.findall(pattern,input()):\n",
    "        print(x)\n"
   ]
  },
  {
   "cell_type": "markdown",
   "id": "45b08f7e",
   "metadata": {},
   "source": [
    "Validating and Parsing Email Addresses\n",
    "\n"
   ]
  },
  {
   "cell_type": "code",
   "execution_count": null,
   "id": "e93dfb32",
   "metadata": {},
   "outputs": [],
   "source": [
    "#SOLUZIONE VISTA NELLA SEDE DISCUSSION\n",
    "import re\n",
    "n = int(input())\n",
    "for i in range(n):\n",
    "    x, y = input().split(' ')\n",
    "    m = re.match(r'<[A-Za-z](\\w|-|\\.|_)+@[A-Za-z]+\\.[A-Za-z]{1,3}>', y)\n",
    "    if m:\n",
    "        print(x,y)\n"
   ]
  },
  {
   "cell_type": "markdown",
   "id": "d2680e09",
   "metadata": {},
   "source": [
    "Validating phone numbers"
   ]
  },
  {
   "cell_type": "code",
   "execution_count": null,
   "id": "663eaa66",
   "metadata": {},
   "outputs": [],
   "source": [
    "#VISTO SEZIONE DISCUSSION E ADATTATO SOLUZIONE\n",
    "import re\n",
    "n=int(input())\n",
    "for i in range(n):\n",
    "    if re.match(r'[789]\\d{9}$',input()):   \n",
    "        print ('YES' ) \n",
    "    else:  \n",
    "        print ('NO' )\n"
   ]
  },
  {
   "cell_type": "markdown",
   "id": "b81f581c",
   "metadata": {},
   "source": [
    "Validating Roman Numerals"
   ]
  },
  {
   "cell_type": "code",
   "execution_count": null,
   "id": "4a92e232",
   "metadata": {},
   "outputs": [],
   "source": [
    "##VISTO SOLUZIONE IN SEZIONE DISCUSSION\n",
    "\n",
    "thousand = 'M{0,3}'\n",
    "hundred = '(C[MD]|D?C{0,3})'\n",
    "ten = '(X[CL]|L?X{0,3})'\n",
    "digit = '(I[VX]|V?I{0,3})'\n",
    "regex_pattern=thousand + hundred+ten+digit +'$'\n",
    "\n",
    "import re\n",
    "print(str(bool(re.match(regex_pattern, input()))))"
   ]
  },
  {
   "cell_type": "markdown",
   "id": "eed7673e",
   "metadata": {},
   "source": [
    "Group(), Groups() & Groupdict()\n",
    "\n"
   ]
  },
  {
   "cell_type": "code",
   "execution_count": null,
   "id": "53cfc10e",
   "metadata": {},
   "outputs": [],
   "source": [
    "#VISTO SEZIONE DISCUSSION E ADATTATO SOLUZIONE\n",
    "#cerco le sequenze di almeno due caratteri alfanumerici consecutivi=m\n",
    "#se m!=0 stampo la prima occorrenza, altrimenti stampo -1\n",
    "import re\n",
    "m = re.search(r'([a-zA-Z0-9])\\1+', input().strip())\n",
    "print(m.group(1) if m else -1)\n"
   ]
  },
  {
   "cell_type": "markdown",
   "id": "1e7390b8",
   "metadata": {},
   "source": [
    "Decorators 2 - Name Directory"
   ]
  },
  {
   "cell_type": "code",
   "execution_count": null,
   "id": "2d7f4352",
   "metadata": {},
   "outputs": [],
   "source": [
    "#VISTO LA SEZIONE DISCUSSION\n",
    "import operator\n",
    "\n",
    "def person_lister(f):\n",
    "    def inner(people):\n",
    "        # complete the function\n",
    "        return map(f, sorted(people, key=lambda x: int(x[2])))          \n",
    "    return inner\n",
    "    \n",
    "\n",
    "@person_lister\n",
    "def name_format(person):\n",
    "    return (\"Mr. \" if person[3] == \"M\" else \"Ms. \") + person[0] + \" \" + person[1]\n",
    "\n",
    "if __name__ == '__main__':\n",
    "    people = [input().split() for i in range(int(input()))]\n",
    "    print(*name_format(people), sep='\\n')"
   ]
  },
  {
   "cell_type": "markdown",
   "id": "425a7b12",
   "metadata": {},
   "source": [
    "XML2 - Find the Maximum Depth"
   ]
  },
  {
   "cell_type": "code",
   "execution_count": null,
   "id": "200b8dcc",
   "metadata": {},
   "outputs": [],
   "source": [
    "#VISTO SEZIONE DISCUSSION E ADATTATO LA SOLUZIONE\n",
    "import xml.etree.ElementTree as etree\n",
    "#funzione ricorsiva\n",
    "maxdepth = 0\n",
    "def depth(elem, level):\n",
    "    global maxdepth\n",
    "    if (level == maxdepth):\n",
    "        maxdepth += 1 \n",
    "         \n",
    "    for child in elem:\n",
    "        depth(child, level + 1 ) \n",
    "    # your code goes here\n",
    "\n",
    "if __name__ == '__main__':\n",
    "    n = int(input())\n",
    "    xml = \"\"\n",
    "    for i in range(n):\n",
    "        xml =  xml + input() + \"\\n\"\n",
    "    tree = etree.ElementTree(etree.fromstring(xml))\n",
    "    depth(tree.getroot(), -1)\n",
    "    print(maxdepth)"
   ]
  },
  {
   "cell_type": "markdown",
   "id": "06bd465a",
   "metadata": {},
   "source": [
    "Athlete Sort"
   ]
  },
  {
   "cell_type": "code",
   "execution_count": null,
   "id": "4e6776eb",
   "metadata": {},
   "outputs": [],
   "source": [
    "import math\n",
    "import os\n",
    "import random\n",
    "import re\n",
    "import sys\n",
    "#VISTO SEZIONE DISCUSSION E ADATTATO LA SOLUZIONE\n",
    "n, m = map(int, input().split())\n",
    "nums = [list(map(int, input().split())) for i in range(n)]\n",
    "k = int(input())\n",
    "#ordino secondo l'elemento k-esimo\n",
    "nums.sort(key=lambda x: x[k])\n",
    "\n",
    "for line in nums:\n",
    "    print(*line, sep=' ')\n"
   ]
  },
  {
   "cell_type": "markdown",
   "id": "187b1d7c",
   "metadata": {},
   "source": [
    "Time Delta\n",
    "\n"
   ]
  },
  {
   "cell_type": "code",
   "execution_count": null,
   "id": "66a7eb88",
   "metadata": {},
   "outputs": [],
   "source": [
    "#VISTO SEZIONE DISCUSSION E ADATTATO LA SOLUZIONE\n",
    "import math\n",
    "import os\n",
    "import random\n",
    "import re\n",
    "import sys\n",
    "\n",
    "# Complete the time_delta function below.\n",
    "from datetime import datetime \n",
    "\n",
    "def time_delta(t1, t2):\n",
    "    t1new=datetime.strptime( t1,'%a %d %b %Y %H:%M:%S %z')\n",
    "    t2new=datetime.strptime(t2,'%a %d %b %Y %H:%M:%S %z')\n",
    "    print (int(abs((t1new-t2new).total_seconds())))\n",
    "    \n",
    "\n",
    "t = int(input())\n",
    "\n",
    "for t_itr in range(t):\n",
    "    t1 = input()\n",
    "    t2 = str(input())\n",
    "    delta = time_delta(t1, t2)\n",
    "\n",
    "   "
   ]
  },
  {
   "cell_type": "markdown",
   "id": "63c60f00",
   "metadata": {},
   "source": [
    "Piling Up!\n",
    "\n"
   ]
  },
  {
   "cell_type": "code",
   "execution_count": null,
   "id": "5bc660e4",
   "metadata": {},
   "outputs": [],
   "source": [
    "#VISTO SEZIONE DISCUSSION E RIADATTATO LA SOLUZIONE\n",
    "for j in range(int(input())):\n",
    "    input()\n",
    "    lst = list(map(int,input().split()))\n",
    "    l = len(lst)\n",
    "    i = 0\n",
    "    while i < l - 1 and lst[i] >= lst[i+1]:\n",
    "        i += 1\n",
    "    while i < l - 1 and lst[i] <= lst[i+1]:\n",
    "        i += 1\n",
    "    if i==l-1:\n",
    "        print(\"Yes\")\n",
    "    else:\n",
    "        print(\"No\")"
   ]
  },
  {
   "cell_type": "markdown",
   "id": "a644bbc2",
   "metadata": {},
   "source": [
    "Company Logo"
   ]
  },
  {
   "cell_type": "code",
   "execution_count": null,
   "id": "e8e9e429",
   "metadata": {},
   "outputs": [],
   "source": [
    "#VISTO LA SEZIONE DISCUSSION E RIFORMULATO LA SOLUZIONE\n",
    "if __name__ == '__main__':\n",
    "    s=str(input())\n",
    "    Dizionario={}\n",
    "#Ordino il dizionario mentre lo creo\n",
    "    for x in sorted(s):\n",
    "        Dizionario[x]=Dizionario.get(x,0)+1   \n",
    "#ordino il dizionario per valori & metto le chiavi in Dict_keys.\n",
    "    Dict_keys=sorted(Dizionario, key=Dizionario.get, reverse=True)  \n",
    "\n",
    "    for key in Dict_keys[:3]:\n",
    "        print(key,Dizionario[key])"
   ]
  },
  {
   "cell_type": "markdown",
   "id": "ef9cd41b",
   "metadata": {},
   "source": [
    "Word Order"
   ]
  },
  {
   "cell_type": "code",
   "execution_count": null,
   "id": "b91f176e",
   "metadata": {},
   "outputs": [],
   "source": [
    "from collections import defaultdict\n",
    "n=(int(input()))\n",
    "\n",
    " \n",
    "d=defaultdict(int)\n",
    "\n",
    "for i in range(n):\n",
    "    key=input()\n",
    "    d[key] +=1\n",
    "print(len(d.keys()))\n",
    "    \n",
    "occorrenza=(d.values())\n",
    "print(*occorrenza)"
   ]
  },
  {
   "cell_type": "markdown",
   "id": "da79b5b1",
   "metadata": {},
   "source": [
    "Collections.deque()\n",
    "\n"
   ]
  },
  {
   "cell_type": "code",
   "execution_count": null,
   "id": "f39a9957",
   "metadata": {},
   "outputs": [],
   "source": [
    "from collections import deque\n",
    "N=int(input())\n",
    "d=deque()\n",
    "\n",
    "for i in range(N):\n",
    "    comando=list(map(str,input().split()))\n",
    "    if comando[0]==\"append\":\n",
    "        d.append(comando[1])\n",
    "    elif comando[0]=='pop':\n",
    "        d.pop()     \n",
    "    elif comando[0]=='popleft':\n",
    "        d.popleft()    \n",
    "    elif comando[0]=='appendleft':\n",
    "        d.appendleft(comando[1])\n",
    "print(' '.join(d))\n"
   ]
  },
  {
   "cell_type": "markdown",
   "id": "81452fc1",
   "metadata": {},
   "source": [
    "DefaultDict Tutorial\n",
    "\n"
   ]
  },
  {
   "cell_type": "code",
   "execution_count": null,
   "id": "68ba23b0",
   "metadata": {},
   "outputs": [],
   "source": [
    "from collections import defaultdict\n",
    "\n",
    "n,m=map(int,input().split())\n",
    "\n",
    "A=[]\n",
    "B=[]\n",
    "for i in range(n):\n",
    "    A.append(str(input()))\n",
    "for i in range(m):\n",
    "    B.append(str(input()))\n",
    "    \n",
    "for j in range(m):\n",
    "    apparizione=[]\n",
    "    for i in range(n):\n",
    "        if B[j]==A[i]:\n",
    "            apparizione.append(i+1)\n",
    "    if apparizione:\n",
    "        print(*apparizione, sep=' ')\n",
    "    else:\n",
    "        print(-1)"
   ]
  },
  {
   "cell_type": "markdown",
   "id": "4a083599",
   "metadata": {},
   "source": [
    "Insertion Sort - Part 2\n",
    "\n"
   ]
  },
  {
   "cell_type": "code",
   "execution_count": null,
   "id": "dd3dd48f",
   "metadata": {},
   "outputs": [],
   "source": [
    "\n",
    "import math\n",
    "import os\n",
    "import random\n",
    "import re\n",
    "import sys\n",
    "\n",
    "#\n",
    "# Complete the 'insertionSort2' function below.\n",
    "#\n",
    "# The function accepts following parameters:\n",
    "#  1. INTEGER n\n",
    "#  2. INTEGER_ARRAY arr\n",
    "#\n",
    "\n",
    "def insertionSort2(n, arr):\n",
    "    # Write your code here\n",
    "    for i in range(n):\n",
    "        new=[]\n",
    "        part1=arr[0:i]\n",
    "        part2=arr[i+1:n]\n",
    "        new=part1+part2\n",
    "        j=0\n",
    "        cont=0\n",
    "        while j<i:\n",
    "            if arr[i]>new[j]:\n",
    "                cont=cont+1\n",
    "            j+=1\n",
    "            \n",
    "        if cont>0:\n",
    "            if cont==1:\n",
    "                new.insert(cont,arr[i])\n",
    "            else:\n",
    "                new.insert(cont,arr[i])\n",
    "        else:\n",
    "            new.insert(0,arr[i])\n",
    "        arr=new\n",
    "        if i!=0:\n",
    "            print(*new)   \n",
    "            \n",
    "if __name__ == '__main__':\n",
    "    n = int(input().strip())\n",
    "\n",
    "    arr = list(map(int, input().rstrip().split()))\n",
    "\n",
    "    insertionSort2(n, arr)"
   ]
  },
  {
   "cell_type": "markdown",
   "id": "fd452757",
   "metadata": {},
   "source": [
    "Insertion Sort - Part 1"
   ]
  },
  {
   "cell_type": "code",
   "execution_count": null,
   "id": "cb8eefd2",
   "metadata": {},
   "outputs": [],
   "source": [
    "\n",
    "import math\n",
    "import os\n",
    "import random\n",
    "import re\n",
    "import sys\n",
    "\n",
    "#\n",
    "# Complete the 'insertionSort1' function below.\n",
    "#\n",
    "# The function accepts following parameters:\n",
    "#  1. INTEGER n\n",
    "#  2. INTEGER_ARRAY arr\n",
    "# \n",
    "\n",
    "\n",
    "def insertionSort1(n, arr):#doppio if per cambiare posizione iniziale\n",
    "    current=arr[n-1]\n",
    "    for i in range(1,n+1):\n",
    "        if arr[n-i-1]>current:\n",
    "            if i==n:\n",
    "                arr[0]=current\n",
    "            else:\n",
    "                arr[n-i]=arr[n-i-1]\n",
    "            print(*arr, sep = \" \")\n",
    "        if arr[n-i-1]<current:\n",
    "            arr[n-i]=current\n",
    "            print(*arr, sep = \" \")\n",
    "            break\n",
    "            \n",
    "if __name__ == '__main__':\n",
    "    n = int(input().strip())\n",
    "\n",
    "    arr = list(map(int, input().rstrip().split()))\n",
    "\n",
    "    insertionSort1(n, arr)"
   ]
  },
  {
   "cell_type": "markdown",
   "id": "0bc8489d",
   "metadata": {},
   "source": [
    "Recursive Digit Sum\n",
    "\n"
   ]
  },
  {
   "cell_type": "code",
   "execution_count": null,
   "id": "91793207",
   "metadata": {},
   "outputs": [],
   "source": [
    "\n",
    "import math\n",
    "import os\n",
    "import random\n",
    "import re\n",
    "import sys\n",
    "\n",
    "#\n",
    "# Complete the 'superDigit' function below.\n",
    "#\n",
    "# The function is expected to return an INTEGER.\n",
    "# The function accepts following parameters:\n",
    "#  1. STRING n\n",
    "#  2. INTEGER k\n",
    "#\n",
    "###RECURSIVE SOLUTION GIVES RUNNING TIME ERROR\n",
    "'''\n",
    "def superDigit(n, k):\n",
    "    if (int(n)<10 and k<2):\n",
    "        return (n)\n",
    "    \n",
    "    else:\n",
    "        new=n*k\n",
    "        new=str(new)\n",
    "        if len(new)==1:\n",
    "            return(new)\n",
    "        somma=0\n",
    "        for i in range(len(new)):\n",
    "            somma+=int(new[i])\n",
    "        \n",
    "        somma=str(somma)\n",
    "        return superDigit(somma,1)\n",
    "'''\n",
    "#The Digit Sum of a Number to Base 10 is Equivalent to Its Remainder Upon Division by 9\n",
    "def superDigit(n, k):\n",
    "    x = ((int(n) * k) % 9)\n",
    "    if x!=0:\n",
    "        return(x)\n",
    "    else:\n",
    "        return(9)\n",
    "\n",
    "\n",
    "if __name__ == '__main__':\n",
    "    fptr = open(os.environ['OUTPUT_PATH'], 'w')\n",
    "\n",
    "    first_multiple_input = input().rstrip().split()\n",
    "\n",
    "    n = first_multiple_input[0]\n",
    "\n",
    "    k = int(first_multiple_input[1])\n",
    "\n",
    "    result = superDigit(n, k)\n",
    "\n",
    "    fptr.write(str(result) + '\\n')\n",
    "\n",
    "    fptr.close()\n"
   ]
  },
  {
   "cell_type": "markdown",
   "id": "4bd02dbb",
   "metadata": {},
   "source": [
    "Viral Advertising\n",
    "\n"
   ]
  },
  {
   "cell_type": "code",
   "execution_count": null,
   "id": "e0926678",
   "metadata": {},
   "outputs": [],
   "source": [
    "\n",
    "import math\n",
    "import os\n",
    "import random\n",
    "import re\n",
    "import sys\n",
    "\n",
    "#\n",
    "# Complete the 'viralAdvertising' function below.\n",
    "#\n",
    "# The function is expected to return an INTEGER.\n",
    "# The function accepts INTEGER n as parameter.\n",
    "#\n",
    "\n",
    "def viralAdvertising(n):\n",
    "    # Write your code here\n",
    "    shared=5\n",
    "    liked=2\n",
    "    ris=2\n",
    "    for i in range(1,n):\n",
    "        shared= math.floor(shared/2)*3\n",
    "        liked= math.floor(shared/2)\n",
    "        ris+=liked\n",
    "    return(ris)\n",
    "\n",
    "if __name__ == '__main__':\n",
    "    fptr = open(os.environ['OUTPUT_PATH'], 'w')\n",
    "\n",
    "    n = int(input().strip())\n",
    "\n",
    "    result = viralAdvertising(n)\n",
    "\n",
    "    fptr.write(str(result) + '\\n')\n",
    "\n",
    "    fptr.close()"
   ]
  },
  {
   "cell_type": "markdown",
   "id": "138b7e27",
   "metadata": {},
   "source": [
    "Number Line Jumps"
   ]
  },
  {
   "cell_type": "code",
   "execution_count": null,
   "id": "802035bb",
   "metadata": {},
   "outputs": [],
   "source": [
    "import math\n",
    "import os\n",
    "import random\n",
    "import re\n",
    "import sys\n",
    "\n",
    "#\n",
    "# Complete the 'kangaroo' function below.\n",
    "#\n",
    "# The function is expected to return a STRING.\n",
    "# The function accepts following parameters:\n",
    "#  1. INTEGER x1\n",
    "#  2. INTEGER v1\n",
    "#  3. INTEGER x2\n",
    "#  4. INTEGER v2\n",
    "#\n",
    "\n",
    "def kangaroo(x1, v1, x2, v2):\n",
    "    \n",
    "    if( (x1>x2 and v1>v2)or(x2>x1 and v2>v1) ):\n",
    "        return('NO')\n",
    "    for i in range(10000):\n",
    "        if (x1+v1*i==x2+v2*i):\n",
    "            return('YES')\n",
    "    else:\n",
    "        return('NO')\n",
    "\n",
    "\n",
    "if __name__ == '__main__':\n",
    "    fptr = open(os.environ['OUTPUT_PATH'], 'w')\n",
    "\n",
    "    first_multiple_input = input().rstrip().split()\n",
    "\n",
    "    x1 = int(first_multiple_input[0])\n",
    "\n",
    "    v1 = int(first_multiple_input[1])\n",
    "\n",
    "    x2 = int(first_multiple_input[2])\n",
    "\n",
    "    v2 = int(first_multiple_input[3])\n",
    "\n",
    "    result = kangaroo(x1, v1, x2, v2)\n",
    "\n",
    "    fptr.write(result + '\\n')\n",
    "\n",
    "    fptr.close()"
   ]
  },
  {
   "cell_type": "markdown",
   "id": "32d6b79d",
   "metadata": {},
   "source": [
    "Birthday Cake Candles\n",
    "\n"
   ]
  },
  {
   "cell_type": "code",
   "execution_count": null,
   "id": "9671d819",
   "metadata": {},
   "outputs": [],
   "source": [
    "\n",
    "import math\n",
    "import os\n",
    "import random\n",
    "import re\n",
    "import sys\n",
    "\n",
    "#\n",
    "# Complete the 'birthdayCakeCandles' function below.\n",
    "#\n",
    "# The function is expected to return an INTEGER.\n",
    "# The function accepts INTEGER_ARRAY candles as parameter.\n",
    "#\n",
    "\n",
    "def birthdayCakeCandles(candles):\n",
    "    massimo=max(candles)\n",
    "    ris=0\n",
    "    for i in range(len(candles)):\n",
    "        if candles[i]==massimo:\n",
    "            ris+=1\n",
    "    return ris\n",
    "\n",
    "if __name__ == '__main__':\n",
    "    fptr = open(os.environ['OUTPUT_PATH'], 'w')\n",
    "\n",
    "    candles_count = int(input().strip())\n",
    "\n",
    "    candles = list(map(int, input().rstrip().split()))\n",
    "\n",
    "    result = birthdayCakeCandles(candles)\n",
    "\n",
    "    fptr.write(str(result) + '\\n')\n",
    "\n",
    "    fptr.close()\n"
   ]
  },
  {
   "cell_type": "markdown",
   "id": "265d59df",
   "metadata": {},
   "source": [
    "Re.start() & Re.end()"
   ]
  },
  {
   "cell_type": "code",
   "execution_count": null,
   "id": "6862b723",
   "metadata": {},
   "outputs": [],
   "source": [
    "import re\n",
    "S=str(input())\n",
    "k=str(input())\n",
    "\n",
    "risultati=[]\n",
    "for i in range(len(S)):\n",
    "    new=S[i:]\n",
    "    \n",
    "    if len(k)<=len(new):    \n",
    "        ris=re.search(k,new)\n",
    "        if ris:\n",
    "            if( (ris.start()+i,ris.end()-1+i) not in risultati ):\n",
    "                risultati.append( (ris.start()+i,ris.end()-1+i) )\n",
    "\n",
    "if len(risultati)>0:\n",
    "    for i in range(len(risultati)):\n",
    "        print(risultati[i])\n",
    "else:\n",
    "        print('(-1, -1)')    \n"
   ]
  },
  {
   "cell_type": "markdown",
   "id": "ffe521f9",
   "metadata": {},
   "source": [
    "Re.findall() & Re.finditer()\n",
    "\n"
   ]
  },
  {
   "cell_type": "code",
   "execution_count": null,
   "id": "ff6b64fa",
   "metadata": {},
   "outputs": [],
   "source": [
    "#S=str(input())\n",
    "\n",
    "import re\n",
    "consonanti = '[qwrtypsdfghjklzxcvbnm]'\n",
    "\n",
    "#    This is a pattern for \"positive lookbehind\". For example, (?<=B)A means that PyCharm will search for A, but only if there is B before it\n",
    "#{n,}    \n",
    "#n is a non negative integer. Matches at least n times.\n",
    "\n",
    "#For example, o{2,} does not match the o in Bob and matches all the o's in \"foooood.\"\n",
    "#flag re.I==re.Ignorcase e non dice di prendere sia minuscole che maiuscole\n",
    "a = re.findall('(?<=' + consonanti +')([aeiou]{2,})' + consonanti, input(), re.I)\n",
    "\n",
    "#case 2 non va bene\n",
    "if len(a)>0:\n",
    "    for i in range(len(a)):\n",
    "       print(a[i])\n",
    "else:\n",
    "    print(-1)\n",
    "    \n"
   ]
  },
  {
   "cell_type": "markdown",
   "id": "6fcef2b3",
   "metadata": {},
   "source": [
    "Re.split()\n",
    "\n"
   ]
  },
  {
   "cell_type": "code",
   "execution_count": null,
   "id": "ccd9c6a4",
   "metadata": {},
   "outputs": [],
   "source": [
    "regex_pattern = r\"[.,]\"\t# Do not delete 'r'.\n",
    "'''\n",
    "import re\n",
    "try:    \n",
    "    [print(i) for i in re.split('[.,]', input()) if i]\n",
    "except EOFError as e:\n",
    "    print('ciao')\n",
    " '''   \n",
    "\n",
    "import re\n",
    "print(\"\\n\".join(re.split(regex_pattern, input())))"
   ]
  },
  {
   "cell_type": "markdown",
   "id": "3aaab336",
   "metadata": {},
   "source": [
    "Detect Floating Point Number"
   ]
  },
  {
   "cell_type": "code",
   "execution_count": null,
   "id": "3a02f7eb",
   "metadata": {},
   "outputs": [],
   "source": [
    "T=int(input())\n",
    "for i in range(T):\n",
    "    x=input()\n",
    "   \n",
    "    try:\n",
    "        if float(x):\n",
    "            print('True')\n",
    "        if float(x)==0:\n",
    "            print('False')\n",
    "            \n",
    "    except Exception as e:\n",
    "        print('False')\n"
   ]
  },
  {
   "cell_type": "markdown",
   "id": "eb2bae08",
   "metadata": {},
   "source": [
    "Standardize Mobile Number Using Decorators"
   ]
  },
  {
   "cell_type": "code",
   "execution_count": null,
   "id": "0f0cdcc0",
   "metadata": {},
   "outputs": [],
   "source": [
    "def wrapper(f):\n",
    "    def fun(l):\n",
    "        for i in range(len(l)):\n",
    "            if (l[i][0]=='+' or (int(l[i][0])==0 and len(l[i])==11)):\n",
    "                l[i]=l[i][1:]\n",
    "                if len(l[i])==12:\n",
    "                    l[i]=l[i][2:]\n",
    "            elif (len(l[i])==12):\n",
    "                l[i]=l[i][2:]\n",
    "\n",
    "        l.sort()\n",
    "\n",
    "        for i in range(0,len(l)):\n",
    "\n",
    "            if (int(l[i][0])==9 and (len(l[i])<=11)):\n",
    "                print('+91'+\" \"+str(l[i][0:5])+\" \"+str(l[i][5:10]))\n",
    "\n",
    "            elif (int(l[i][0])==9 and (len(l[i])==12)):\n",
    "                print('+'+str(l[i][0:2])+\" \"+str(l[i][2:7])+\" \"+str(l[i][7:12]) )\n",
    "\n",
    "            elif(len(l[i])>12):\n",
    "                print('+'+str(l[i][0:]))\n",
    "\n",
    "            elif (int(l[i][0])==0):\n",
    "                print('+91'+\" \"+str(l[i][1:6])+\" \"+str(l[i][6:11]) )\n",
    "\n",
    "            else:         \n",
    "                print('+91'+\" \"+str(l[i][0:5])+\" \"+str(l[i][5:10]) )   \n",
    "    \n",
    "    return fun\n",
    "\n",
    "@wrapper\n",
    "def sort_phone(l):\n",
    "    print(*sorted(l), sep='\\n')\n",
    "\n",
    "if __name__ == '__main__':\n",
    "    l = [input() for _ in range(int(input()))]\n",
    "    sort_phone(l) "
   ]
  },
  {
   "cell_type": "markdown",
   "id": "8ef390ab",
   "metadata": {},
   "source": [
    "XML 1 - Find the Score"
   ]
  },
  {
   "cell_type": "code",
   "execution_count": null,
   "id": "cf9ad35a",
   "metadata": {},
   "outputs": [],
   "source": [
    "import sys\n",
    "import xml.etree.ElementTree as etree\n",
    "\n",
    "def get_attr_number(node):\n",
    "    # your code goes here\n",
    "    score=0\n",
    "    #itero il nodo e prendo gli items: ne considero il numero con len e aggiorno lo score\n",
    "    for child in node.iter():\n",
    "        score+=(len(child.items()))\n",
    "    return score\n",
    "\n",
    "\n",
    "if __name__ == '__main__':\n",
    "    sys.stdin.readline()\n",
    "    xml = sys.stdin.read()\n",
    "    tree = etree.ElementTree(etree.fromstring(xml))\n",
    "    root = tree.getroot()\n",
    "    print(get_attr_number(root))"
   ]
  },
  {
   "cell_type": "markdown",
   "id": "e15428e2",
   "metadata": {},
   "source": [
    "Map and Lambda Function\n",
    "\n"
   ]
  },
  {
   "cell_type": "code",
   "execution_count": null,
   "id": "08691ea1",
   "metadata": {},
   "outputs": [],
   "source": [
    "cube = lambda x:x**3 # complete the lambda function \n",
    "\n",
    "def fibonacci(n):\n",
    "    lista=[0,1]\n",
    "    for i in range(2,n):\n",
    "        lista.append(lista[i-2]+lista[i-1])\n",
    "    return lista[0:n]\n",
    "    # return a list of fibonacci numbers\n",
    "\n"
   ]
  },
  {
   "cell_type": "markdown",
   "id": "8fea9063",
   "metadata": {},
   "source": [
    "ginortS\n",
    "\n"
   ]
  },
  {
   "cell_type": "code",
   "execution_count": null,
   "id": "547dd1c9",
   "metadata": {},
   "outputs": [],
   "source": [
    "s=str(input())\n",
    "\n",
    "lettersl=''\n",
    "lettersu=''\n",
    "numbersodd=''\n",
    "numberseven=''\n",
    "for i in range(len(s)):\n",
    "    if s[i].islower():\n",
    "        lettersl=lettersl+s[i]\n",
    "    elif s[i].isupper():\n",
    "        lettersu=lettersu+s[i]\n",
    "    elif s[i].isnumeric():\n",
    "        if int(s[i])%2==0:\n",
    "            numbersodd=numbersodd+s[i]\n",
    "        else:\n",
    "            numberseven=numberseven+s[i]\n",
    "    \n",
    "\n",
    "print(\"\".join(sorted(lettersl))+\"\".join(sorted(lettersu))+\"\".join(sorted(numberseven))+\"\".join(sorted(numbersodd)))\n"
   ]
  },
  {
   "cell_type": "markdown",
   "id": "6d88585c",
   "metadata": {},
   "source": [
    "Zipped!"
   ]
  },
  {
   "cell_type": "code",
   "execution_count": null,
   "id": "e6241dc0",
   "metadata": {},
   "outputs": [],
   "source": [
    "#N=students, X=subjects\n",
    "\n",
    "N,X=map(int,input().split())\n",
    "subject=[]\n",
    "for i in range(X):\n",
    "    subject.append(list(map(float,input().split())))\n",
    "#unzippo le liste\n",
    "for i in zip(*subject):\n",
    "    print(sum(i)/X)\n",
    "    "
   ]
  },
  {
   "cell_type": "markdown",
   "id": "f108411c",
   "metadata": {},
   "source": [
    "Exceptions\n",
    "\n"
   ]
  },
  {
   "cell_type": "code",
   "execution_count": null,
   "id": "8be0fb0f",
   "metadata": {},
   "outputs": [],
   "source": [
    "# Enter your code here. Read input from STDIN. Print output to STDOUT\n",
    "t=int(input())\n",
    "\n",
    "for i in range (t):\n",
    "    #provo a svolgere l'operazione\n",
    "    try:\n",
    "        a,b=map(int,input().split())\n",
    "        print (a//b)\n",
    "    #se non funziona stampo l'errore considerando la Exception: o ZeroDivisionError o ValueError\n",
    "    except ZeroDivisionError as e:\n",
    "        print(\"Error Code:\", e)\n",
    "    except ValueError as e:\n",
    "        print(\"Error Code:\", e)"
   ]
  },
  {
   "cell_type": "markdown",
   "id": "bf994a76",
   "metadata": {},
   "source": [
    "Calendar Module"
   ]
  },
  {
   "cell_type": "code",
   "execution_count": null,
   "id": "853a4911",
   "metadata": {},
   "outputs": [],
   "source": [
    "import calendar\n",
    "mese,giorno,anno=map(int,input().split())\n",
    "\n",
    "wday = [\"MONDAY\", \"TUESDAY\", \"WEDNESDAY\", \"THURSDAY\", \"FRIDAY\", \"SATURDAY\", \"SUNDAY\"]\n",
    "print(wday[calendar.weekday(anno, mese, giorno)])\n",
    "\n"
   ]
  },
  {
   "cell_type": "markdown",
   "id": "4c1ddf05",
   "metadata": {},
   "source": [
    "Collections.OrderedDict()\n",
    "\n"
   ]
  },
  {
   "cell_type": "code",
   "execution_count": null,
   "id": "462e5fd0",
   "metadata": {},
   "outputs": [],
   "source": [
    "from collections import OrderedDict\n",
    "n=int(input())\n",
    "spesa=OrderedDict()\n",
    "\n",
    "for i in range(n):\n",
    "    item=input().split()\n",
    "    nome=''\n",
    "    for i in range(len(item)-1):\n",
    "        nome=nome+\" \"+item[i]\n",
    "    #la prossima linea di codice serve a togliere lo spazio bianco inziale per il print\n",
    "    nome=nome[1:]\n",
    "    costo=int(item[-1])\n",
    "    if nome not in spesa:\n",
    "        spesa[nome] = costo\n",
    "    else:\n",
    "        spesa[nome] +=costo\n",
    "    \n",
    "[print(nome,spesa[nome]) for nome in spesa]\n",
    "     "
   ]
  },
  {
   "cell_type": "markdown",
   "id": "f8626786",
   "metadata": {},
   "source": [
    "Collections.namedtuple()\n",
    "\n"
   ]
  },
  {
   "cell_type": "code",
   "execution_count": null,
   "id": "ac9043cf",
   "metadata": {},
   "outputs": [],
   "source": [
    "from collections import namedtuple\n",
    "n=int(input())\n",
    "columns=input().split()\n",
    "#definisco la namedtuple schede=spreadsheets\n",
    "schede=namedtuple('scheda',columns)\n",
    "somma=0\n",
    "\n",
    "for i in range(n):\n",
    "    input1,input2,input3,input4=input().split()\n",
    "    scheda=schede(input1,input2,input3,input4)\n",
    "    somma= somma+ int(scheda.MARKS)\n",
    "\n",
    "print('{:.2f}'.format(somma/n))\n",
    "    \n"
   ]
  },
  {
   "cell_type": "markdown",
   "id": "2ebba5ee",
   "metadata": {},
   "source": [
    "collections.Counter()"
   ]
  },
  {
   "cell_type": "code",
   "execution_count": null,
   "id": "7ef09c27",
   "metadata": {},
   "outputs": [],
   "source": [
    "import collections\n",
    "\n",
    "x = int(input())\n",
    "shoe_sizes = collections.Counter(map(int, input().split()))\n",
    "N = int(input())\n",
    "\n",
    "guadagno = 0\n",
    "\n",
    "for i in range(N):\n",
    "    numero, costo = map(int, input().split())\n",
    "    if (shoe_sizes[numero]>0): \n",
    "        guadagno += costo\n",
    "        shoe_sizes[numero] -= 1\n",
    "\n",
    "print (guadagno)\n"
   ]
  },
  {
   "cell_type": "markdown",
   "id": "95254af6",
   "metadata": {},
   "source": [
    "Linear Algebra"
   ]
  },
  {
   "cell_type": "code",
   "execution_count": null,
   "id": "fb535bb1",
   "metadata": {},
   "outputs": [],
   "source": [
    "import numpy\n",
    "numpy.set_printoptions(legacy='1.13')\n",
    "n=int(input())\n",
    "Matrix = numpy.array([input().split() for i in range(n)], float)\n",
    "print(numpy.linalg.det(Matrix))\n"
   ]
  },
  {
   "cell_type": "markdown",
   "id": "0458e5dd",
   "metadata": {},
   "source": [
    "Polynomials\n",
    "\n"
   ]
  },
  {
   "cell_type": "code",
   "execution_count": null,
   "id": "2f70a3a4",
   "metadata": {},
   "outputs": [],
   "source": [
    "import numpy\n",
    "p=list(map(float,input().split()))\n",
    "##x=map(float,input())\n",
    "#result=numpy.polyval(p,x)\n",
    "print(numpy.polyval(p,float(input())))\n"
   ]
  },
  {
   "cell_type": "markdown",
   "id": "1f98144c",
   "metadata": {},
   "source": [
    "Inner and Outer\n",
    "\n"
   ]
  },
  {
   "cell_type": "code",
   "execution_count": null,
   "id": "ef9de4dd",
   "metadata": {},
   "outputs": [],
   "source": [
    "import numpy\n",
    "A = numpy.array([input().split()], int)\n",
    "B = numpy.array([input().split()], int)\n",
    "print( numpy.inner(A,B)[0][0])\n",
    "print(numpy.outer(A,B))\n"
   ]
  },
  {
   "cell_type": "markdown",
   "id": "a40e3982",
   "metadata": {},
   "source": [
    "Eye and Identity"
   ]
  },
  {
   "cell_type": "code",
   "execution_count": null,
   "id": "cb7c67de",
   "metadata": {},
   "outputs": [],
   "source": [
    "import numpy\n",
    "numpy.set_printoptions(legacy='1.13')\n",
    "n,m=map(int,input().split())\n",
    "print(numpy.eye(n,m))\n"
   ]
  },
  {
   "cell_type": "markdown",
   "id": "7242b854",
   "metadata": {},
   "source": [
    "Zeros and Ones\n",
    "\n"
   ]
  },
  {
   "cell_type": "code",
   "execution_count": null,
   "id": "3aa2f2ad",
   "metadata": {},
   "outputs": [],
   "source": [
    "import numpy\n",
    "dimensions = tuple(map(int, input().split()))\n",
    "print (numpy.zeros(dimensions, dtype = numpy.int))\n",
    "print (numpy.ones(dimensions, dtype = numpy.int))\n"
   ]
  },
  {
   "cell_type": "markdown",
   "id": "62beb540",
   "metadata": {},
   "source": [
    "Concatenate"
   ]
  },
  {
   "cell_type": "code",
   "execution_count": null,
   "id": "6a13f769",
   "metadata": {},
   "outputs": [],
   "source": [
    "import numpy\n",
    "\n",
    "N,M,P=map(int,input().split())\n",
    "Matrix1 = numpy.array([input().split() for i in range(N)], int)\n",
    "Matrix2 = numpy.array([input().split() for i in range(M)], int)\n",
    "\n",
    "print(numpy.concatenate((Matrix1,Matrix2),axis=0))\n"
   ]
  },
  {
   "cell_type": "markdown",
   "id": "165f8269",
   "metadata": {},
   "source": [
    "Transpose and Flatten"
   ]
  },
  {
   "cell_type": "code",
   "execution_count": null,
   "id": "3666e471",
   "metadata": {},
   "outputs": [],
   "source": [
    "import numpy\n",
    "\n",
    "N,M=map(int,input().split())\n",
    "Matrix = numpy.array([input().split() for i in range(N)], int)\n",
    "print (Matrix.transpose())\n",
    "print (Matrix.flatten())\n"
   ]
  },
  {
   "cell_type": "markdown",
   "id": "ba661ffd",
   "metadata": {},
   "source": [
    "Arrays"
   ]
  },
  {
   "cell_type": "code",
   "execution_count": null,
   "id": "ac38cbd4",
   "metadata": {},
   "outputs": [],
   "source": [
    "\n",
    "def arrays(arr):\n",
    "    # complete this function\n",
    "    # use numpy.array\n",
    "    array=numpy.array(arr,float)\n",
    "    return(numpy.flip(array))\n"
   ]
  },
  {
   "cell_type": "markdown",
   "id": "62d39fbc",
   "metadata": {},
   "source": [
    "Dot and Cross"
   ]
  },
  {
   "cell_type": "code",
   "execution_count": null,
   "id": "b35f95d1",
   "metadata": {},
   "outputs": [],
   "source": [
    "import numpy\n",
    "matrix1=[]\n",
    "matrix2=[]\n",
    "n=int(input())\n",
    "\n",
    "for i in range (n):\n",
    "    matrix1.append(list(map(int,input().split())))\n",
    "for i in range (n):\n",
    "    matrix2.append(list(map(int,input().split())))    \n",
    "A=numpy.array(matrix1)\n",
    "B=numpy.array(matrix2)\n",
    "print(numpy.matmul(A,B))\n",
    "\n"
   ]
  },
  {
   "cell_type": "markdown",
   "id": "33502f1d",
   "metadata": {},
   "source": [
    "Mean, Var, and Std\n",
    "\n"
   ]
  },
  {
   "cell_type": "code",
   "execution_count": null,
   "id": "01d63750",
   "metadata": {},
   "outputs": [],
   "source": [
    "import numpy\n",
    "matrix=[]\n",
    "n,m=map(int,input().split())\n",
    "for i in range (n):\n",
    "    matrix.append(list(map(int,input().split())))\n",
    "    \n",
    "A=numpy.array(matrix)\n",
    "print(numpy.mean(A,axis=1))    \n",
    "print(numpy.var(A,axis=0))\n",
    "err=numpy.std(A,axis=None)\n",
    "print(round(err,11))\n"
   ]
  },
  {
   "cell_type": "markdown",
   "id": "6562ba9a",
   "metadata": {},
   "source": [
    "Min and Max"
   ]
  },
  {
   "cell_type": "code",
   "execution_count": null,
   "id": "04f562d5",
   "metadata": {},
   "outputs": [],
   "source": [
    "import numpy\n",
    "matrix=[]\n",
    "n,m=map(int,input().split())\n",
    "for i in range (n):\n",
    "    matrix.append(list(map(int,input().split())))\n",
    "    \n",
    "A=numpy.array(matrix)\n",
    "minimo=numpy.min(A, axis=1)\n",
    "print(numpy.max(minimo))\n",
    "\n",
    "\n"
   ]
  },
  {
   "cell_type": "markdown",
   "id": "dcda0796",
   "metadata": {},
   "source": [
    "Sum and Prod"
   ]
  },
  {
   "cell_type": "code",
   "execution_count": null,
   "id": "eeb12b6f",
   "metadata": {},
   "outputs": [],
   "source": [
    "import numpy\n",
    "matrix=[]\n",
    "n,m=map(int,input().split())\n",
    "for i in range (n):\n",
    "    matrix.append(list(map(int,input().split())))\n",
    "A=numpy.array(matrix)\n",
    "product=numpy.sum(A,axis=0)\n",
    "\n",
    "print(numpy.prod(product))\n"
   ]
  },
  {
   "cell_type": "markdown",
   "id": "0553ed63",
   "metadata": {},
   "source": [
    "Floor, Ceil and Rint"
   ]
  },
  {
   "cell_type": "code",
   "execution_count": null,
   "id": "fc3ebc64",
   "metadata": {},
   "outputs": [],
   "source": [
    "import numpy as np\n",
    "\n",
    "np.set_printoptions(legacy='1.13')\n",
    "\n",
    "A = list(map(float, input().split()))\n",
    "\n",
    "print (np.floor(A))\n",
    "print (np.ceil(A))\n",
    "print (np.rint(A))\n"
   ]
  },
  {
   "cell_type": "markdown",
   "id": "9b7aaaca",
   "metadata": {},
   "source": [
    "Array Mathematics\n",
    "\n"
   ]
  },
  {
   "cell_type": "code",
   "execution_count": null,
   "id": "316d918a",
   "metadata": {},
   "outputs": [],
   "source": [
    "\n",
    "import numpy as np\n",
    "n, m = map(int, input().split())\n",
    "a, b = (np.array([input().split() for i in range(n)], dtype=int) for j in range(2))\n",
    "print(a+b, a-b, a*b, a//b, a%b, a**b, sep='\\n')\n"
   ]
  },
  {
   "cell_type": "markdown",
   "id": "4764543f",
   "metadata": {},
   "source": [
    "Shape and Reshape"
   ]
  },
  {
   "cell_type": "code",
   "execution_count": null,
   "id": "7294f603",
   "metadata": {},
   "outputs": [],
   "source": [
    "import numpy\n",
    "array=list(map(int,input().split()))\n",
    "print (numpy.reshape(array,(3,3)))\n",
    "\n"
   ]
  },
  {
   "cell_type": "markdown",
   "id": "62fbbd5a",
   "metadata": {},
   "source": [
    "Check Strict Superset"
   ]
  },
  {
   "cell_type": "code",
   "execution_count": null,
   "id": "d8c7877d",
   "metadata": {},
   "outputs": [],
   "source": [
    "setA=set(map(int,input().split()))\n",
    "n=int(input())\n",
    "cont=0\n",
    "for i in range(n):\n",
    "    setB=set(map(int,input().split()))\n",
    "    if setA.issuperset(setB):\n",
    "        cont=cont+1\n",
    "    else:\n",
    "        cont=cont\n",
    "\n",
    "if cont==n:\n",
    "    print('True')\n",
    "else:\n",
    "    print('False')\n"
   ]
  },
  {
   "cell_type": "markdown",
   "id": "ce394dd7",
   "metadata": {},
   "source": [
    "Check Subset\n",
    "\n"
   ]
  },
  {
   "cell_type": "code",
   "execution_count": null,
   "id": "dc2095af",
   "metadata": {},
   "outputs": [],
   "source": [
    "# Enter your code here. Read input from STDIN. Print output to STDOUT\n",
    "cases=int(input())\n",
    "for i in range(cases):\n",
    "    numA=int(input())\n",
    "    setA=set(map(int,input().split()))\n",
    "    numB=int(input())\n",
    "    setB=set(map(int,input().split()))\n",
    "    if setA.issubset(setB):\n",
    "        print('True')\n",
    "    else:\n",
    "        print('False')\n",
    "    "
   ]
  },
  {
   "cell_type": "markdown",
   "id": "665e7606",
   "metadata": {},
   "source": [
    "The Captain's Room"
   ]
  },
  {
   "cell_type": "code",
   "execution_count": null,
   "id": "b1d278c4",
   "metadata": {},
   "outputs": [],
   "source": [
    "# Enter your code here. Read input from STDIN. Print output to STDOUT\n",
    "k=int(input())\n",
    "lista=list(map(int,input().split()))\n",
    "\n",
    "setA=set();  \n",
    "setB=set();  \n",
    "for i in lista:\n",
    "    if  i in setA:\n",
    "        setB.add(i)\n",
    "    else:\n",
    "        setA.add(i)\n",
    "        \n",
    "ris=setA.difference(setB)\n",
    "print (list(ris)[0])"
   ]
  },
  {
   "cell_type": "markdown",
   "id": "41f04389",
   "metadata": {},
   "source": [
    "Set Mutations\n",
    "\n"
   ]
  },
  {
   "cell_type": "code",
   "execution_count": null,
   "id": "6c90c4c4",
   "metadata": {},
   "outputs": [],
   "source": [
    "n=int(input())\n",
    "setA = set(map(int, input().split()))\n",
    "N=int(input())\n",
    "for i in range(N):\n",
    "    comando=input().split()\n",
    "    newset=set(map(int, input().split()))\n",
    "    if comando[0]=='update':\n",
    "        setA.update(newset)\n",
    "    if comando[0]=='intersection_update':\n",
    "        setA.intersection_update(newset)\n",
    "    if comando[0]=='difference_update':\n",
    "        setA.difference_update(newset)\n",
    "    if comando[0]=='symmetric_difference_update':\n",
    "        setA.symmetric_difference_update(newset)\n",
    "\n",
    "print(sum(setA))"
   ]
  },
  {
   "cell_type": "markdown",
   "id": "6e7ac3c3",
   "metadata": {},
   "source": [
    "Set .symmetric_difference() Operation"
   ]
  },
  {
   "cell_type": "code",
   "execution_count": null,
   "id": "96784151",
   "metadata": {},
   "outputs": [],
   "source": [
    "# Enter your code here. Read input from STDIN. Print output to STDOUT\n",
    "N=int(input())\n",
    "setn = set(map(int, input().split()))\n",
    "M=int(input())\n",
    "setm=set(map(int, input().split()))\n",
    "\n",
    "unione=setn.symmetric_difference(setm)\n",
    "print(len(unione))"
   ]
  },
  {
   "cell_type": "markdown",
   "id": "e1cc0dce",
   "metadata": {},
   "source": [
    "Set .difference() Operation"
   ]
  },
  {
   "cell_type": "code",
   "execution_count": null,
   "id": "112039cf",
   "metadata": {},
   "outputs": [],
   "source": [
    "N=int(input())\n",
    "setn = set(map(int, input().split()))\n",
    "M=int(input())\n",
    "setm=set(map(int, input().split()))\n",
    "\n",
    "unione=setn.difference(setm)\n",
    "print(len(unione))\n"
   ]
  },
  {
   "cell_type": "markdown",
   "id": "c400da31",
   "metadata": {},
   "source": [
    "Set .intersection() Operation"
   ]
  },
  {
   "cell_type": "code",
   "execution_count": null,
   "id": "846f7938",
   "metadata": {},
   "outputs": [],
   "source": [
    "N=int(input())\n",
    "setn = set(map(int, input().split()))\n",
    "M=int(input())\n",
    "setm=set(map(int, input().split()))\n",
    "\n",
    "unione=setn.intersection(setm)\n",
    "print(len(unione))\n"
   ]
  },
  {
   "cell_type": "markdown",
   "id": "0a51085e",
   "metadata": {},
   "source": [
    "Set .union() Operation"
   ]
  },
  {
   "cell_type": "code",
   "execution_count": null,
   "id": "c0ad020c",
   "metadata": {},
   "outputs": [],
   "source": [
    "N=int(input())\n",
    "setn = set(map(int, input().split()))\n",
    "M=int(input())\n",
    "setm=set(map(int, input().split()))\n",
    "\n",
    "unione=setn.union(setm)\n",
    "print(len(unione))\n"
   ]
  },
  {
   "cell_type": "markdown",
   "id": "0ec11c51",
   "metadata": {},
   "source": [
    "Set .discard(), .remove() & .pop()"
   ]
  },
  {
   "cell_type": "code",
   "execution_count": null,
   "id": "a44fd9c9",
   "metadata": {},
   "outputs": [],
   "source": [
    "n = int(input())\n",
    "s = set(map(int, input().split()))\n",
    "N=int(input())\n",
    "\n",
    "for i in range(N):\n",
    "    comando=input().split()\n",
    "    if comando[0]=='pop':\n",
    "        s.pop()\n",
    "    if comando[0]=='remove':\n",
    "        s.remove(int(comando[1]))\n",
    "    if comando[0]=='discard':\n",
    "        s.discard(int(comando[1]))\n",
    "\n",
    "print(sum(s))\n",
    "    "
   ]
  },
  {
   "cell_type": "markdown",
   "id": "4d2746b9",
   "metadata": {},
   "source": [
    "Set .add()"
   ]
  },
  {
   "cell_type": "code",
   "execution_count": null,
   "id": "8a3a2f83",
   "metadata": {},
   "outputs": [],
   "source": [
    "N=int(input())\n",
    "\n",
    "lista=[]\n",
    "for i in range(N):\n",
    "    lista.append(input())\n",
    "    \n",
    "sett=set(lista)\n",
    "\n",
    "print(len(sett))\n"
   ]
  },
  {
   "cell_type": "markdown",
   "id": "434bdb81",
   "metadata": {},
   "source": [
    "No Idea!"
   ]
  },
  {
   "cell_type": "code",
   "execution_count": null,
   "id": "f4444bed",
   "metadata": {},
   "outputs": [],
   "source": [
    "n,m=input().split()\n",
    "n=int(n)\n",
    "m=int(m)\n",
    "\n",
    "array=input().split()\n",
    "array=[int(x) for x in array]\n",
    "\n",
    "A=input().split()\n",
    "A=[int(x) for x in A]\n",
    "setA=set(A)\n",
    "\n",
    "B=input().split()\n",
    "B=[int(x) for x in B]\n",
    "setB=set(B)\n",
    "\n",
    "ris=0\n",
    "for i in range (len (array)):\n",
    "    if array[i] in setA:\n",
    "        ris=ris+1\n",
    "    elif array[i] in setB:\n",
    "        ris=ris-1\n",
    "    else:\n",
    "        ris=ris\n",
    "\n",
    "print(ris)"
   ]
  },
  {
   "cell_type": "markdown",
   "id": "afd217ec",
   "metadata": {},
   "source": [
    "Symmetric Difference\n",
    "\n"
   ]
  },
  {
   "cell_type": "code",
   "execution_count": null,
   "id": "929e47b5",
   "metadata": {},
   "outputs": [],
   "source": [
    "M=int(input())\n",
    "setm=input().split()\n",
    "\n",
    "N=int(input())\n",
    "setn=input().split()\n",
    "\n",
    "#trasform string into int\n",
    "setm1=[int(x) for x in setm]\n",
    "setn1=[int(x) for x in setn]\n",
    "setM=set(setm1)\n",
    "setN=set(setn1)\n",
    "\n",
    "newset1=setN.difference(setM)\n",
    "newset2=setM.difference(setN)\n",
    "newset=newset1.union(newset2)\n",
    "\n",
    "for i in range(len(newset)):\n",
    "    print(min(newset))\n",
    "    newset.discard(min(newset))\n",
    "    \n"
   ]
  },
  {
   "cell_type": "markdown",
   "id": "11e4c29d",
   "metadata": {},
   "source": [
    "Introduction to Sets"
   ]
  },
  {
   "cell_type": "code",
   "execution_count": null,
   "id": "affdf0dd",
   "metadata": {},
   "outputs": [],
   "source": [
    "def average(array):\n",
    "    # your code goes here\n",
    "    new=set(array)\n",
    "    lung=len(new)\n",
    "    result=sum(new)/lung\n",
    "    return result\n",
    "\n"
   ]
  },
  {
   "cell_type": "markdown",
   "id": "8b9911fb",
   "metadata": {},
   "source": [
    "Merge the Tools!"
   ]
  },
  {
   "cell_type": "code",
   "execution_count": null,
   "id": "57499d37",
   "metadata": {},
   "outputs": [],
   "source": [
    "def merge_the_tools(string, k):\n",
    "    n=len(string)\n",
    "    for i in range(0, n, k):\n",
    "        u = \"\"\n",
    "        for j in string[i : i + k]:\n",
    "            if j not in u:\n",
    "               u += j          \n",
    "        print(u)"
   ]
  },
  {
   "cell_type": "markdown",
   "id": "ec15eea0",
   "metadata": {},
   "source": [
    "The Minion Game"
   ]
  },
  {
   "cell_type": "code",
   "execution_count": null,
   "id": "a821f835",
   "metadata": {},
   "outputs": [],
   "source": [
    "\n",
    "def minion_game(string):\n",
    "    # your code goes here\n",
    "    Vowels = 0\n",
    "    Consonants = 0\n",
    "    for i in range(len(string)):\n",
    "        #if vocale(s[i]):\n",
    "        if string[i] in 'AEIOU':\n",
    "            Vowels += (len(string)-i)\n",
    "        else:\n",
    "           Consonants += (len(string)-i)\n",
    "\n",
    "    if Vowels > Consonants:\n",
    "        print (\"Kevin\", Vowels)\n",
    "    elif Vowels< Consonants:\n",
    "        print (\"Stuart\", Consonants)\n",
    "    else:\n",
    "        print (\"Draw\")\n",
    "    \n"
   ]
  },
  {
   "cell_type": "markdown",
   "id": "a462714a",
   "metadata": {},
   "source": [
    "Text Alignment"
   ]
  },
  {
   "cell_type": "code",
   "execution_count": null,
   "id": "fec3ce9b",
   "metadata": {},
   "outputs": [],
   "source": [
    "#Replace all ______ with rjust, ljust or center. \n",
    "\n",
    "thickness = int(input()) #This must be an odd number\n",
    "c = 'H'\n",
    "\n",
    "#Top Cone\n",
    "for i in range(thickness):\n",
    "    print((c*i).rjust(thickness-1)+c+(c*i).ljust(thickness-1))\n",
    "\n",
    "#Top Pillars\n",
    "for i in range(thickness+1):\n",
    "    print((c*thickness).center(thickness*2)+(c*thickness).center(thickness*6))\n",
    "\n",
    "#Middle Belt\n",
    "for i in range((thickness+1)//2):\n",
    "    print((c*thickness*5).center(thickness*6))    \n",
    "\n",
    "#Bottom Pillars\n",
    "for i in range(thickness+1):\n",
    "    print((c*thickness).center(thickness*2)+(c*thickness).center(thickness*6))    \n",
    "\n",
    "#Bottom Cone\n",
    "for i in range(thickness):\n",
    "    print(((c*(thickness-i-1)).rjust(thickness)+c+(c*(thickness-i-1)).ljust(thickness)).rjust(thickness*6))"
   ]
  },
  {
   "cell_type": "markdown",
   "id": "46a142f9",
   "metadata": {},
   "source": [
    "sWAP cASE"
   ]
  },
  {
   "cell_type": "code",
   "execution_count": null,
   "id": "ab28a388",
   "metadata": {},
   "outputs": [],
   "source": [
    "def swap_case(s):\n",
    "    l=list(s)\n",
    "    new=[x.lower() if x.isupper() else x.capitalize() for x in l]\n",
    "    return (''.join(new))\n",
    "\n"
   ]
  },
  {
   "cell_type": "markdown",
   "id": "58b5b7f8",
   "metadata": {},
   "source": [
    "Capitalize!"
   ]
  },
  {
   "cell_type": "code",
   "execution_count": null,
   "id": "a931b404",
   "metadata": {},
   "outputs": [],
   "source": [
    "def solve(s):\n",
    "    new=s.split()\n",
    "    new2=[i.capitalize() for i in new]\n",
    "    for i in range(len(new2)):\n",
    "        s=s.replace(new[i],new2[i])\n",
    "    return(s)   \n",
    "    \n",
    "   \n"
   ]
  },
  {
   "cell_type": "markdown",
   "id": "99730de2",
   "metadata": {},
   "source": [
    "Alphabet Rangoli"
   ]
  },
  {
   "cell_type": "code",
   "execution_count": null,
   "id": "23bbe837",
   "metadata": {},
   "outputs": [],
   "source": [
    "import string\n",
    "\n",
    "def print_rangoli(size):\n",
    "    # your code goes here\n",
    "    \n",
    "    alpha = string.ascii_lowercase\n",
    "    L = []\n",
    "    for i in range(size):\n",
    "        s = \"-\".join(alpha[i:size])\n",
    "        L.append((s[::-1]+s[1:]).center(4*size-3, \"-\"))\n",
    "    #upper    \n",
    "    for i in range(size-1):\n",
    "        print(L[size-1-i])\n",
    "    #central\n",
    "    print (L[0])\n",
    "    #inferior\n",
    "    for i in range(1,size):\n",
    "        print(L[i])  "
   ]
  },
  {
   "cell_type": "markdown",
   "id": "a17fdbcf",
   "metadata": {},
   "source": [
    "String Formatting"
   ]
  },
  {
   "cell_type": "code",
   "execution_count": null,
   "id": "0e75b3b0",
   "metadata": {},
   "outputs": [],
   "source": [
    "def print_formatted(number):\n",
    "    # your code goes here\n",
    "\n",
    "    w=len(bin(number)[2:])\n",
    "    for i in range(1,number+1):\n",
    "        decimal=str(i).rjust(w,' ')\n",
    "        octal=oct(i)[2:].rjust(w,' ')\n",
    "        hexadecimal=hex(i)[2:].upper().rjust(w,' ')\n",
    "        binary=bin(i)[2:].rjust(w,' ')\n",
    "        print(decimal,octal,hexadecimal,binary)\n",
    "\n"
   ]
  },
  {
   "cell_type": "markdown",
   "id": "8927f70d",
   "metadata": {},
   "source": [
    "Designer Door Mat"
   ]
  },
  {
   "cell_type": "code",
   "execution_count": null,
   "id": "3d4ba25f",
   "metadata": {},
   "outputs": [],
   "source": [
    "n,m=input().split()\n",
    "n=int(n)\n",
    "m=int(m)\n",
    "\n",
    "#superior + center\n",
    "for i in range(int(n/2+1)):\n",
    "    if i==(n/2-0.5):\n",
    "        print ('WELCOME'.center(m,'-'))\n",
    "    else :\n",
    "        print (('.|.'*(2*i+1)).center(m,'-'))\n",
    "    \n",
    "#inferior\n",
    "for i in range(int(n/2),0,-1):\n",
    "    print (('.|.'*(2*i-1)).center(m,'-'))"
   ]
  },
  {
   "cell_type": "markdown",
   "id": "159d7215",
   "metadata": {},
   "source": [
    "Text Wrap"
   ]
  },
  {
   "cell_type": "code",
   "execution_count": null,
   "id": "4f25de1c",
   "metadata": {},
   "outputs": [],
   "source": [
    "\n",
    "def wrap(string, max_width):\n",
    "    newstring=''\n",
    "    for i in range (0,len(string),max_width):\n",
    "        for j in range(max_width):\n",
    "            if i+j<len(string):\n",
    "                newstring=newstring+string[i+j]\n",
    "        print(newstring)\n",
    "        newstring=''\n",
    "    return ''\n",
    "\n"
   ]
  },
  {
   "cell_type": "markdown",
   "id": "636e44b4",
   "metadata": {},
   "source": [
    "String Validators"
   ]
  },
  {
   "cell_type": "code",
   "execution_count": null,
   "id": "84a12c2c",
   "metadata": {},
   "outputs": [],
   "source": [
    "if __name__ == '__main__':\n",
    "    s = input()\n",
    "    \n",
    "segnale1=False;\n",
    "segnale2=False;\n",
    "segnale3=False;\n",
    "segnale4=False;\n",
    "segnale5=False;\n",
    "    \n",
    "for i in range(len(s)):\n",
    "    if (s[i].isalnum()):\n",
    "        segnale1=True;\n",
    "    if (s[i].isalpha()):\n",
    "        segnale2=True;\n",
    "    if (s[i].isdigit()):\n",
    "        segnale3=True;\n",
    "    if (s[i].islower()):\n",
    "        segnale4=True;\n",
    "    if (s[i].isupper()):\n",
    "        segnale5=True;\n",
    "    \n",
    "print(segnale1)\n",
    "print(segnale2) \n",
    "print(segnale3) \n",
    "print(segnale4) \n",
    "print(segnale5) "
   ]
  },
  {
   "cell_type": "markdown",
   "id": "e79dcdfc",
   "metadata": {},
   "source": [
    "Find a string"
   ]
  },
  {
   "cell_type": "code",
   "execution_count": null,
   "id": "84f318ad",
   "metadata": {},
   "outputs": [],
   "source": [
    "def count_substring(string, sub_string):\n",
    "    cont=0\n",
    "    segno=0\n",
    "    for i in range(len(string)):\n",
    "        if string[i]==sub_string[0]:\n",
    "            for j in range(len(sub_string)):\n",
    "                if i+j<len(string):\n",
    "                    if string[i+j]==sub_string[j]:\n",
    "                        segno= segno+1\n",
    "            if segno==len(sub_string):\n",
    "                cont=cont+1\n",
    "        segno=0\n",
    "    return cont\n"
   ]
  },
  {
   "cell_type": "markdown",
   "id": "da4fe85f",
   "metadata": {},
   "source": [
    "Mutations"
   ]
  },
  {
   "cell_type": "code",
   "execution_count": null,
   "id": "e20fc853",
   "metadata": {},
   "outputs": [],
   "source": [
    "def mutate_string(string, position, character):\n",
    "    l=list(string)\n",
    "    l[position]=character\n",
    "    newstring=''.join(l)\n",
    "    return newstring\n",
    "\n"
   ]
  },
  {
   "cell_type": "markdown",
   "id": "ff75c40a",
   "metadata": {},
   "source": [
    "What's Your Name?"
   ]
  },
  {
   "cell_type": "code",
   "execution_count": null,
   "id": "8f650fc7",
   "metadata": {},
   "outputs": [],
   "source": [
    "\n",
    "def print_full_name(first, last):\n",
    "    # Write your code here\n",
    "   return print( \"Hello \"+first+\" \" +last +\"! You just delved into python.\" )\n",
    "\n"
   ]
  },
  {
   "cell_type": "markdown",
   "id": "bb55aee0",
   "metadata": {},
   "source": [
    "String Split and Join"
   ]
  },
  {
   "cell_type": "code",
   "execution_count": null,
   "id": "ae9dfa81",
   "metadata": {},
   "outputs": [],
   "source": [
    "def split_and_join(line):\n",
    "    line=line.split(\" \")\n",
    "    line=\"-\".join(line)\n",
    "    return line \n",
    "\n",
    "if __name__ == '__main__':\n",
    "    line = input()\n",
    "    result = split_and_join(line)\n",
    "    print(result)\n"
   ]
  },
  {
   "cell_type": "markdown",
   "id": "3a4d4848",
   "metadata": {},
   "source": [
    "Lists"
   ]
  },
  {
   "cell_type": "code",
   "execution_count": null,
   "id": "a6de7a97",
   "metadata": {},
   "outputs": [],
   "source": [
    "if __name__ == '__main__':\n",
    "    N = int(input())\n",
    "    \n",
    "lista=[]    \n",
    "for i in range(N):\n",
    "    comando=input().strip().split(\" \")\n",
    "    funzione=comando[0]\n",
    "    argomenti=comando[1:]\n",
    "    #eseguo le richieste \n",
    "    if funzione==\"insert\":\n",
    "        lista.insert(int(argomenti[0]),int(argomenti[1]))\n",
    "    elif funzione==\"print\":\n",
    "        print(lista)\n",
    "    elif funzione==\"remove\":\n",
    "        lista.remove(int(argomenti[0]))\n",
    "    elif funzione==\"append\":\n",
    "        lista.append(int(argomenti[0]))\n",
    "    elif funzione==\"sort\":\n",
    "        lista.sort()\n",
    "    elif funzione==\"pop\":\n",
    "        lista.pop()\n",
    "    else:\n",
    "        lista.reverse()"
   ]
  },
  {
   "cell_type": "markdown",
   "id": "f4edb111",
   "metadata": {},
   "source": [
    "Tuples"
   ]
  },
  {
   "cell_type": "code",
   "execution_count": null,
   "id": "a93c3c53",
   "metadata": {},
   "outputs": [],
   "source": [
    "if __name__ == '__main__':\n",
    "    n = int(raw_input())\n",
    "    integer_list = map(int, raw_input().split())\n",
    "\n",
    "lista=[int(x) for x in integer_list]\n",
    "tupla=tuple(lista)\n",
    "print(hash(tupla))\n"
   ]
  },
  {
   "cell_type": "markdown",
   "id": "e4a8d58f",
   "metadata": {},
   "source": [
    "Finding the percentage\n",
    "\n"
   ]
  },
  {
   "cell_type": "code",
   "execution_count": null,
   "id": "cb8a997d",
   "metadata": {},
   "outputs": [],
   "source": [
    "if __name__ == '__main__':\n",
    "    n = int(input())\n",
    "    student_marks = {}\n",
    "    for _ in range(n):\n",
    "        name, *line = input().split()\n",
    "        scores = list(map(float, line))\n",
    "        student_marks[name] = scores\n",
    "    query_name = input()\n",
    "    \n",
    "somma=student_marks[query_name][0]+student_marks[query_name][1]+student_marks[query_name][2]\n",
    "somma = \"{:.2f}\".format(somma/3)\n",
    "print(somma)\n"
   ]
  },
  {
   "cell_type": "markdown",
   "id": "c245cf47",
   "metadata": {},
   "source": [
    "Nested Lists"
   ]
  },
  {
   "cell_type": "code",
   "execution_count": null,
   "id": "15c31315",
   "metadata": {},
   "outputs": [],
   "source": [
    "if __name__ == '__main__':\n",
    "    lista=[]\n",
    "    n=int(input())\n",
    "    for _ in range(n):\n",
    "        name = input()\n",
    "        score = float(input())\n",
    "        lista.append([name,score])\n",
    "        \n",
    "#find runnerup grades\n",
    "new=[x[1] for x in lista[0:n][:]]\n",
    "minimo=min(new)\n",
    "new=[x for x in new if x!=minimo]\n",
    "runnerup=min(new)\n",
    "\n",
    "#print runnerup_names\n",
    "runnerup_names=[x[0] for x in lista if x[1]==runnerup]\n",
    "runnerup_names.sort()\n",
    "for i in range(len(runnerup_names)):\n",
    "    print(runnerup_names[i])\n",
    "\n"
   ]
  },
  {
   "cell_type": "markdown",
   "id": "fb1db928",
   "metadata": {},
   "source": [
    "Find the Runner-Up Score!"
   ]
  },
  {
   "cell_type": "code",
   "execution_count": null,
   "id": "a0313e34",
   "metadata": {},
   "outputs": [],
   "source": [
    "if __name__ == '__main__':\n",
    "    n = int(input())\n",
    "    arr = list(map(int, input().split()))\n",
    "    \n",
    "winner=max(arr)\n",
    "new=[x for x in arr if x!=winner]\n",
    "runnerup=max(new)\n",
    "print(runnerup)\n"
   ]
  },
  {
   "cell_type": "markdown",
   "id": "30de84de",
   "metadata": {},
   "source": [
    "List Comprehensions"
   ]
  },
  {
   "cell_type": "code",
   "execution_count": null,
   "id": "08db60bc",
   "metadata": {},
   "outputs": [],
   "source": [
    "if __name__ == '__main__':\n",
    "    x = int(input())\n",
    "    y = int(input())\n",
    "    z = int(input())\n",
    "    n = int(input())\n",
    "\n",
    "primo=[i for i in range(x+1)]\n",
    "secondo=[i for i in range(y+1)]\n",
    "terzo=[i for i in range(z+1)]\n",
    "result= [[i,j,k] for i in primo for j in secondo for k in terzo if i+j+k!=n]\n",
    "print(result)\n"
   ]
  },
  {
   "cell_type": "markdown",
   "id": "b32080c8",
   "metadata": {},
   "source": [
    "Print Function"
   ]
  },
  {
   "cell_type": "code",
   "execution_count": null,
   "id": "142724c4",
   "metadata": {},
   "outputs": [],
   "source": [
    "if __name__ == '__main__':\n",
    "    n = int(input())\n",
    "    print(*range(1, n+1), sep='')\n"
   ]
  },
  {
   "cell_type": "markdown",
   "id": "a2ca4734",
   "metadata": {},
   "source": [
    "Write a function"
   ]
  },
  {
   "cell_type": "code",
   "execution_count": null,
   "id": "6c727acf",
   "metadata": {},
   "outputs": [],
   "source": [
    "def is_leap(year):\n",
    "    leap = False\n",
    "    if year%4==0:\n",
    "        leap=True;\n",
    "        if year%100==0:\n",
    "            leap=False;\n",
    "            if year%400==0:\n",
    "                leap=True;\n",
    "    \n",
    "    # Write your logic here\n",
    "    \n",
    "    return leap\n"
   ]
  },
  {
   "cell_type": "markdown",
   "id": "7b418f9f",
   "metadata": {},
   "source": [
    "Loops"
   ]
  },
  {
   "cell_type": "code",
   "execution_count": null,
   "id": "b7c4869f",
   "metadata": {},
   "outputs": [],
   "source": [
    "if __name__ == '__main__':\n",
    "    n = int(input())\n",
    "    for i in range (n):\n",
    "        print (i*i)\n",
    "        i+=1\n"
   ]
  }
 ],
 "metadata": {
  "kernelspec": {
   "display_name": "Python 3 (ipykernel)",
   "language": "python",
   "name": "python3"
  },
  "language_info": {
   "codemirror_mode": {
    "name": "ipython",
    "version": 3
   },
   "file_extension": ".py",
   "mimetype": "text/x-python",
   "name": "python",
   "nbconvert_exporter": "python",
   "pygments_lexer": "ipython3",
   "version": "3.8.11"
  }
 },
 "nbformat": 4,
 "nbformat_minor": 5
}
